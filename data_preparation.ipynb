{
 "cells": [
  {
   "cell_type": "code",
   "execution_count": 38,
   "id": "08c8e9c2",
   "metadata": {},
   "outputs": [],
   "source": [
    "import numpy as np\n",
    "import pandas as pd\n",
    "import os\n",
    "import re"
   ]
  },
  {
   "cell_type": "code",
   "execution_count": 12,
   "id": "8423520d",
   "metadata": {},
   "outputs": [],
   "source": [
    "#Path to csv files\n",
    "csv_path = './data/movie_metadata/movie_meta_data.csv'\n",
    "#Path to directory containing the scripts\n",
    "scripts_directory = './data/screenplay_data/data/raw_texts/raw_texts' "
   ]
  },
  {
   "cell_type": "code",
   "execution_count": 74,
   "id": "77ed19bb",
   "metadata": {},
   "outputs": [],
   "source": [
    "#Load the csv data\n",
    "df = pd.read_csv(csv_path)\n",
    "\n",
    "df['script'] = None "
   ]
  },
  {
   "cell_type": "code",
   "execution_count": 75,
   "id": "7db3e86e",
   "metadata": {},
   "outputs": [
    {
     "name": "stdout",
     "output_type": "stream",
     "text": [
      "Total number of rows in dataset: 2858\n"
     ]
    }
   ],
   "source": [
    "print(f'Total number of rows in dataset: {len(df)}')"
   ]
  },
  {
   "cell_type": "code",
   "execution_count": 76,
   "id": "cc8e336f",
   "metadata": {},
   "outputs": [
    {
     "name": "stdout",
     "output_type": "stream",
     "text": [
      "Error reading ./data/screenplay_data/data/raw_texts/raw_texts/The Deep End of the Ocean_0120646.txt: 'utf-8' codec can't decode byte 0x82 in position 25936: invalid start byte\n",
      "Error reading ./data/screenplay_data/data/raw_texts/raw_texts/Going for the Gold The Bill Johnson Story_0089212.txt: 'utf-8' codec can't decode byte 0x8d in position 1412: invalid start byte\n",
      "Error reading ./data/screenplay_data/data/raw_texts/raw_texts/The Adventures of Priscilla Queen of the Desert_0109045.txt: 'utf-8' codec can't decode byte 0x85 in position 1547: invalid start byte\n",
      "Error reading ./data/screenplay_data/data/raw_texts/raw_texts/Working Girl_0096463.txt: 'utf-8' codec can't decode byte 0xe9 in position 20481: invalid continuation byte\n",
      "Error reading ./data/screenplay_data/data/raw_texts/raw_texts/Halloween_0296665.txt: 'utf-8' codec can't decode byte 0x92 in position 289: invalid start byte\n",
      "Error reading ./data/screenplay_data/data/raw_texts/raw_texts/The House Next Door_0286702.txt: 'utf-8' codec can't decode byte 0x93 in position 30: invalid start byte\n",
      "Error reading ./data/screenplay_data/data/raw_texts/raw_texts/Body Bags_0106449.txt: 'utf-8' codec can't decode byte 0xa9 in position 45: invalid start byte\n",
      "File not found: ./data/screenplay_data/data/raw_texts/raw_texts/Alien³_0103644.txt\n",
      "File not found: ./data/screenplay_data/data/raw_texts/raw_texts/Angels  Demons_0808151.txt\n",
      "File not found: ./data/screenplay_data/data/raw_texts/raw_texts/CineBananas   Reseña de Las Vueltas del Destino August Osage County_5528710.txt\n",
      "File not found: ./data/screenplay_data/data/raw_texts/raw_texts/Music  Lyrics Bridge to Terabithia Breach Black Snake Moan The Lives of Others_7200804.txt\n",
      "File not found: ./data/screenplay_data/data/raw_texts/raw_texts/Bodies Rest  Motion_0106447.txt\n",
      "File not found: ./data/screenplay_data/data/raw_texts/raw_texts/Breakin _0086998.txt\n",
      "File not found: ./data/screenplay_data/data/raw_texts/raw_texts/Celeste  Jesse Forever_1405365.txt\n",
      "File not found: ./data/screenplay_data/data/raw_texts/raw_texts/A Coriolanus árnyékában_2245685.txt\n",
      "File not found: ./data/screenplay_data/data/raw_texts/raw_texts/Cowboys  Aliens_0409847.txt\n",
      "File not found: ./data/screenplay_data/data/raw_texts/raw_texts/Debt The Good the Bad  the Ugly_1755079.txt\n",
      "File not found: ./data/screenplay_data/data/raw_texts/raw_texts/Escape from LA_0116225.txt\n",
      "File not found: ./data/screenplay_data/data/raw_texts/raw_texts/Maverick Trading Mom The Return of Jafar Widows  Peak Even Cowgirls Get the Blues_1949376.txt\n",
      "File not found: ./data/screenplay_data/data/raw_texts/raw_texts/GI Jane_0119173.txt\n",
      "File not found: ./data/screenplay_data/data/raw_texts/raw_texts/GI Joe The Rise of Cobra_1046173.txt\n",
      "File not found: ./data/screenplay_data/data/raw_texts/raw_texts/Harold  Kumar Go to White Castle_0366551.txt\n",
      "File not found: ./data/screenplay_data/data/raw_texts/raw_texts/Hellbound Hellraiser II   Lost in the Labyrinth_0401463.txt\n",
      "File not found: ./data/screenplay_data/data/raw_texts/raw_texts/A Message for Peace Making  Hotel Rwanda _0476811.txt\n",
      "File not found: ./data/screenplay_data/data/raw_texts/raw_texts/How to Lose Friends  Alienate People_0455538.txt\n",
      "File not found: ./data/screenplay_data/data/raw_texts/raw_texts/Hudson  Halls_0283738.txt\n",
      "File not found: ./data/screenplay_data/data/raw_texts/raw_texts/Kate  Leopold_0035423.txt\n",
      "File not found: ./data/screenplay_data/data/raw_texts/raw_texts/LA Confidential_0119488.txt\n",
      "File not found: ./data/screenplay_data/data/raw_texts/raw_texts/Labor of Love   IMDb_1677731.txt\n",
      "File not found: ./data/screenplay_data/data/raw_texts/raw_texts/Les Misérables_1707386.txt\n",
      "File not found: ./data/screenplay_data/data/raw_texts/raw_texts/Love  Basketball_0199725.txt\n",
      "File not found: ./data/screenplay_data/data/raw_texts/raw_texts/Marley  Me_0822832.txt\n",
      "File not found: ./data/screenplay_data/data/raw_texts/raw_texts/Human Touch  Babis Papadopoulos_2606376.txt\n",
      "File not found: ./data/screenplay_data/data/raw_texts/raw_texts/Pokémon Mewtwo Returns_0304564.txt\n",
      "File not found: ./data/screenplay_data/data/raw_texts/raw_texts/Pride  Prejudice_0414387.txt\n",
      "File not found: ./data/screenplay_data/data/raw_texts/raw_texts/Romeo + Juliet_0117509.txt\n",
      "File not found: ./data/screenplay_data/data/raw_texts/raw_texts/Smokin  Aces The Big Gun_1148297.txt\n",
      "File not found: ./data/screenplay_data/data/raw_texts/raw_texts/South Park Bigger Longer  Uncut_0158983.txt\n",
      "File not found: ./data/screenplay_data/data/raw_texts/raw_texts/Star Wars Episode IV   A New Hope_0076759.txt\n",
      "File not found: ./data/screenplay_data/data/raw_texts/raw_texts/Star Wars Episode II   Attack of the Clones_0121765.txt\n",
      "File not found: ./data/screenplay_data/data/raw_texts/raw_texts/Star Wars Episode VI   Return of the Jedi_0086190.txt\n",
      "File not found: ./data/screenplay_data/data/raw_texts/raw_texts/Star Wars Episode V   The Empire Strikes Back_0080684.txt\n",
      "File not found: ./data/screenplay_data/data/raw_texts/raw_texts/Star Wars Episode VII   The Force Awakens_2488496.txt\n",
      "File not found: ./data/screenplay_data/data/raw_texts/raw_texts/Star Wars Episode I   The Phantom Menace_0120915.txt\n",
      "File not found: ./data/screenplay_data/data/raw_texts/raw_texts/Thelma  Louise_0103074.txt\n",
      "File not found: ./data/screenplay_data/data/raw_texts/raw_texts/Time Machine The True Story of the Screaming Eagles   The 101st Airborne_1243956.txt\n",
      "File not found: ./data/screenplay_data/data/raw_texts/raw_texts/Tristan  Isolde_0375154.txt\n",
      "File not found: ./data/screenplay_data/data/raw_texts/raw_texts/ V for Vendetta  Unmasked_0775408.txt\n",
      "File not found: ./data/screenplay_data/data/raw_texts/raw_texts/Au pan coupé_0290137.txt\n",
      "File not found: ./data/screenplay_data/data/raw_texts/raw_texts/Withnail  I_0094336.txt\n",
      "File not found: ./data/screenplay_data/data/raw_texts/raw_texts/The X Files   Fight the Future Blooper Reel_7083566.txt\n",
      "File not found: ./data/screenplay_data/data/raw_texts/raw_texts/Toilet Time   Youth in Revolt Daybreakers Darksiders Might  Magic Clash of Heroes and Twitter_12059586.txt\n",
      "File not found: ./data/screenplay_data/data/raw_texts/raw_texts/Zero Dark Thirty The Compound_5510064.txt\n",
      "File not found: ./data/screenplay_data/data/raw_texts/raw_texts/Benny  Joon_0106387.txt\n",
      "File not found: ./data/screenplay_data/data/raw_texts/raw_texts/The Naked Gun 2½ The Smell of Fear_0102510.txt\n",
      "File not found: ./data/screenplay_data/data/raw_texts/raw_texts/Percy Jackson  the Olympians The Lightning Thief_0814255.txt\n",
      "File not found: ./data/screenplay_data/data/raw_texts/raw_texts/The Old Man  the Gun_2837574.txt\n",
      "File not found: ./data/screenplay_data/data/raw_texts/raw_texts/Up Close  Personal_0118055.txt\n",
      "File not found: ./data/screenplay_data/data/raw_texts/raw_texts/A Beautiful Day in the Neighborhood   IMDb_2901014.txt\n",
      "File not found: ./data/screenplay_data/data/raw_texts/raw_texts/Amélie_0211915.txt\n",
      "Error reading ./data/screenplay_data/data/raw_texts/raw_texts/Things to Come_0028358.txt: 'utf-8' codec can't decode byte 0xe9 in position 114023: invalid continuation byte\n",
      "Error reading ./data/screenplay_data/data/raw_texts/raw_texts/THX 1138_0066434.txt: 'utf-8' codec can't decode byte 0xd2 in position 61131: invalid continuation byte\n",
      "Error reading ./data/screenplay_data/data/raw_texts/raw_texts/Planet of the Apes_0063442.txt: 'utf-8' codec can't decode byte 0xd5 in position 93285: invalid continuation byte\n",
      "File not found: ./data/screenplay_data/data/raw_texts/raw_texts/310 to Yuma_0381849.txt\n",
      "Error reading ./data/screenplay_data/data/raw_texts/raw_texts/Southgate to Brighton_7547872.txt: 'utf-8' codec can't decode byte 0x82 in position 8253: invalid start byte\n",
      "File not found: ./data/screenplay_data/data/raw_texts/raw_texts/AfterLife_0838247.txt\n",
      "Error reading ./data/screenplay_data/data/raw_texts/raw_texts/An American Werewolf in Paris_0118604.txt: 'utf-8' codec can't decode byte 0xe9 in position 47384: invalid continuation byte\n",
      "File not found: ./data/screenplay_data/data/raw_texts/raw_texts/VR5_0112209.txt\n",
      "File not found: ./data/screenplay_data/data/raw_texts/raw_texts/Beowulf  Grendel_0402057.txt\n",
      "Error reading ./data/screenplay_data/data/raw_texts/raw_texts/The Blue Hotel_0554018.txt: 'utf-8' codec can't decode byte 0xe7 in position 170332: invalid continuation byte\n",
      "Error reading ./data/screenplay_data/data/raw_texts/raw_texts/Brazil_0088846.txt: 'utf-8' codec can't decode byte 0xa3 in position 30758: invalid start byte\n",
      "File not found: ./data/screenplay_data/data/raw_texts/raw_texts/The Crowded Room   IMDb_0411256.txt\n",
      "File not found: ./data/screenplay_data/data/raw_texts/raw_texts/Curse the Darkness   IMDb_2443956.txt\n",
      "File not found: ./data/screenplay_data/data/raw_texts/raw_texts/Edward Ford   IMDb_3020462.txt\n",
      "Error reading ./data/screenplay_data/data/raw_texts/raw_texts/Exorcist The Beginning_0204313.txt: 'utf-8' codec can't decode byte 0x85 in position 55583: invalid start byte\n",
      "File not found: ./data/screenplay_data/data/raw_texts/raw_texts/Get Rich or Die Tryin _0430308.txt\n",
      "Error reading ./data/screenplay_data/data/raw_texts/raw_texts/Happiness_0147612.txt: 'utf-8' codec can't decode byte 0x85 in position 374: invalid start byte\n",
      "File not found: ./data/screenplay_data/data/raw_texts/raw_texts/The Lord of the Rings Halloween Autumn Sonata Goin  South Dogs The Dragon Lives The Hills Have Eyes_3438082.txt\n",
      "File not found: ./data/screenplay_data/data/raw_texts/raw_texts/Hustle  Flow_0410097.txt\n",
      "Error reading ./data/screenplay_data/data/raw_texts/raw_texts/Jurassic Park III_0163025.txt: 'utf-8' codec can't decode byte 0x96 in position 145: invalid start byte\n",
      "File not found: ./data/screenplay_data/data/raw_texts/raw_texts/Kiss Kiss   Bang Bang_0061870.txt\n",
      "Error reading ./data/screenplay_data/data/raw_texts/raw_texts/L Avventura_0053619.txt: 'utf-8' codec can't decode byte 0x82 in position 112303: invalid start byte\n",
      "File not found: ./data/screenplay_data/data/raw_texts/raw_texts/Léon The Professional_0110413.txt\n",
      "Error reading ./data/screenplay_data/data/raw_texts/raw_texts/The Lost Weekend_0037884.txt: 'utf-8' codec can't decode byte 0xff in position 0: invalid start byte\n",
      "File not found: ./data/screenplay_data/data/raw_texts/raw_texts/Café Majestic_0257298.txt\n",
      "File not found: ./data/screenplay_data/data/raw_texts/raw_texts/McCabe  Mrs Miller_0067411.txt\n",
      "Error reading ./data/screenplay_data/data/raw_texts/raw_texts/The Ninth Gate_0142688.txt: 'utf-8' codec can't decode byte 0x82 in position 8487: invalid start byte\n",
      "Error reading ./data/screenplay_data/data/raw_texts/raw_texts/Othello_0114057.txt: 'utf-8' codec can't decode byte 0xe8 in position 164: invalid continuation byte\n",
      "Error reading ./data/screenplay_data/data/raw_texts/raw_texts/Professional Theatre 2_12821228.txt: 'utf-8' codec can't decode byte 0x82 in position 113302: invalid start byte\n",
      "Error reading ./data/screenplay_data/data/raw_texts/raw_texts/Pygmalion_0030637.txt: 'utf-8' codec can't decode byte 0x92 in position 1388: invalid start byte\n",
      "File not found: ./data/screenplay_data/data/raw_texts/raw_texts/1976 l élection du Parti québécois_11327984.txt\n",
      "File not found: ./data/screenplay_data/data/raw_texts/raw_texts/R D Laing   IMDb_4153228.txt\n",
      "File not found: ./data/screenplay_data/data/raw_texts/raw_texts/Rails  Ties_0822849.txt\n",
      "Error reading ./data/screenplay_data/data/raw_texts/raw_texts/Nan quan wang_0110625.txt: 'utf-8' codec can't decode byte 0x85 in position 135629: invalid start byte\n",
      "File not found: ./data/screenplay_data/data/raw_texts/raw_texts/Ronnie Rocket   IMDb_3076988.txt\n",
      "Error reading ./data/screenplay_data/data/raw_texts/raw_texts/Salt of the Earth_0047443.txt: 'utf-8' codec can't decode byte 0xd3 in position 3587: invalid continuation byte\n",
      "Error reading ./data/screenplay_data/data/raw_texts/raw_texts/Shine_0117631.txt: 'utf-8' codec can't decode byte 0x92 in position 349: invalid start byte\n",
      "File not found: ./data/screenplay_data/data/raw_texts/raw_texts/Slay the Dreamer   IMDb_11144100.txt\n",
      "Error reading ./data/screenplay_data/data/raw_texts/raw_texts/Smokey and the Bandit_0076729.txt: 'utf-8' codec can't decode byte 0xb0 in position 84290: invalid start byte\n",
      "Error reading ./data/screenplay_data/data/raw_texts/raw_texts/Smoke_0114478.txt: 'utf-8' codec can't decode byte 0xe9 in position 2610: invalid continuation byte\n",
      "File not found: ./data/screenplay_data/data/raw_texts/raw_texts/Star Wars Ep 1 The Phantom Menace w Ryan  Paul from Cold Callers Comedy Podcast_12764338.txt\n",
      "File not found: ./data/screenplay_data/data/raw_texts/raw_texts/Star Wars Episode III   Revenge of the Sith_0121766.txt\n",
      "File not found: ./data/screenplay_data/data/raw_texts/raw_texts/Story of GI Joe_0038120.txt\n",
      "Error reading ./data/screenplay_data/data/raw_texts/raw_texts/Superman II_0081573.txt: 'utf-8' codec can't decode byte 0xe9 in position 110051: invalid continuation byte\n",
      "Error reading ./data/screenplay_data/data/raw_texts/raw_texts/Superman III_0086393.txt: 'utf-8' codec can't decode byte 0xe9 in position 16387: invalid continuation byte\n",
      "Error reading ./data/screenplay_data/data/raw_texts/raw_texts/Superman IV The Quest for Peace_0094074.txt: 'utf-8' codec can't decode byte 0xef in position 26026: invalid continuation byte\n",
      "Error reading ./data/screenplay_data/data/raw_texts/raw_texts/Superman_0078346.txt: 'utf-8' codec can't decode byte 0x82 in position 79680: invalid start byte\n",
      "File not found: ./data/screenplay_data/data/raw_texts/raw_texts/To the White Sea   IMDb_4969494.txt\n",
      "File not found: ./data/screenplay_data/data/raw_texts/raw_texts/TRON 20_0208650.txt\n",
      "Error reading ./data/screenplay_data/data/raw_texts/raw_texts/Viridiana_0055601.txt: 'utf-8' codec can't decode byte 0xa5 in position 6936: invalid start byte\n",
      "Error reading ./data/screenplay_data/data/raw_texts/raw_texts/Waking Up the Town_0016497.txt: 'utf-8' codec can't decode byte 0xa5 in position 6936: invalid start byte\n",
      "Error reading ./data/screenplay_data/data/raw_texts/raw_texts/Waxwork_0096426.txt: 'utf-8' codec can't decode byte 0xe9 in position 23193: invalid continuation byte\n",
      "Error reading ./data/screenplay_data/data/raw_texts/raw_texts/Who s Your Daddy_0287138.txt: 'utf-8' codec can't decode byte 0xe9 in position 417: invalid continuation byte\n",
      "Error reading ./data/screenplay_data/data/raw_texts/raw_texts/The Hustler_0054997.txt: 'utf-8' codec can't decode byte 0xe9 in position 386: invalid continuation byte\n",
      "File not found: ./data/screenplay_data/data/raw_texts/raw_texts/531_4329278.txt\n",
      "Error reading ./data/screenplay_data/data/raw_texts/raw_texts/A Hard Days Night_0581729.txt: 'utf-8' codec can't decode byte 0xe9 in position 62670: invalid continuation byte\n",
      "File not found: ./data/screenplay_data/data/raw_texts/raw_texts/Alfred Hitchcock and the Making of  Psycho _1362861.txt\n",
      "File not found: ./data/screenplay_data/data/raw_texts/raw_texts/Batman  Robin_0118688.txt\n",
      "Error reading ./data/screenplay_data/data/raw_texts/raw_texts/Boy Who Never Slept_1781782.txt: 'utf-8' codec can't decode byte 0x85 in position 37957: invalid start byte\n",
      "File not found: ./data/screenplay_data/data/raw_texts/raw_texts/Cloak  Dagger_5614844.txt\n",
      "Error reading ./data/screenplay_data/data/raw_texts/raw_texts/Tony Collins \"Sport in Capitalist Society A Short History\"_13044676.txt: [Errno 22] Invalid argument: './data/screenplay_data/data/raw_texts/raw_texts/Tony Collins \"Sport in Capitalist Society A Short History\"_13044676.txt'\n",
      "Error reading ./data/screenplay_data/data/raw_texts/raw_texts/Erik the Viking_0097289.txt: 'utf-8' codec can't decode byte 0xe9 in position 157568: invalid continuation byte\n",
      "File not found: ./data/screenplay_data/data/raw_texts/raw_texts/ET the Extra Terrestrial_0083866.txt\n",
      "File not found: ./data/screenplay_data/data/raw_texts/raw_texts/Rafták MenT #2   Velké selhání_8516900.txt\n",
      "File not found: ./data/screenplay_data/data/raw_texts/raw_texts/Gateway   IMDb_8765666.txt\n",
      "Error reading ./data/screenplay_data/data/raw_texts/raw_texts/Get Shorty_5761496.txt: 'utf-8' codec can't decode byte 0x96 in position 496: invalid start byte\n",
      "Error reading ./data/screenplay_data/data/raw_texts/raw_texts/Halloween IV The Return of Michael Myers   \"Hot Mustard Water\"_13376032.txt: [Errno 22] Invalid argument: './data/screenplay_data/data/raw_texts/raw_texts/Halloween IV The Return of Michael Myers   \"Hot Mustard Water\"_13376032.txt'\n",
      "File not found: ./data/screenplay_data/data/raw_texts/raw_texts/Chapter One  Genesis _0759572.txt\n",
      "File not found: ./data/screenplay_data/data/raw_texts/raw_texts/How to Train Your Dragon The Hidden World   Trailer Thoughts_8542038.txt\n",
      "File not found: ./data/screenplay_data/data/raw_texts/raw_texts/Fernando Arrabal lit Sa corolle noire éditions A Biren suivi de Ah la belle année éditions Ginasservis et Paris_12447550.txt\n",
      "Error reading ./data/screenplay_data/data/raw_texts/raw_texts/The Last Kiss Goodnight_0700739.txt: 'utf-8' codec can't decode byte 0xff in position 0: invalid start byte\n",
      "Error reading ./data/screenplay_data/data/raw_texts/raw_texts/Lon_7663372.txt: 'utf-8' codec can't decode byte 0x82 in position 113302: invalid start byte\n",
      "Error reading ./data/screenplay_data/data/raw_texts/raw_texts/MASH_0066026.txt: 'utf-8' codec can't decode byte 0x96 in position 473: invalid start byte\n",
      "Error reading ./data/screenplay_data/data/raw_texts/raw_texts/Midnight Run_0095631.txt: 'utf-8' codec can't decode byte 0xff in position 0: invalid start byte\n",
      "Error reading ./data/screenplay_data/data/raw_texts/raw_texts/The Naked City_0040636.txt: 'utf-8' codec can't decode byte 0xff in position 0: invalid start byte\n",
      "Error reading ./data/screenplay_data/data/raw_texts/raw_texts/Wes Craven   \"Nightmare on Elm Street\"  Johny Depp_7095810.txt: [Errno 22] Invalid argument: './data/screenplay_data/data/raw_texts/raw_texts/Wes Craven   \"Nightmare on Elm Street\"  Johny Depp_7095810.txt'\n",
      "Error reading ./data/screenplay_data/data/raw_texts/raw_texts/Portrait of Jennie_0040705.txt: 'utf-8' codec can't decode byte 0xff in position 0: invalid start byte\n",
      "File not found: ./data/screenplay_data/data/raw_texts/raw_texts/Primaries  the Vice Presidency_3889492.txt\n",
      "File not found: ./data/screenplay_data/data/raw_texts/raw_texts/Prêt à porter_6108130.txt\n",
      "File not found: ./data/screenplay_data/data/raw_texts/raw_texts/Queen  Slim_8722346.txt\n",
      "Error reading ./data/screenplay_data/data/raw_texts/raw_texts/Ride the High Country_0056412.txt: 'utf-8' codec can't decode byte 0xff in position 0: invalid start byte\n",
      "File not found: ./data/screenplay_data/data/raw_texts/raw_texts/Rock  Rule_0086203.txt\n",
      "File not found: ./data/screenplay_data/data/raw_texts/raw_texts/Singin  in the Rain_0045152.txt\n",
      "Error reading ./data/screenplay_data/data/raw_texts/raw_texts/Stagecoach_0031971.txt: 'utf-8' codec can't decode byte 0xff in position 0: invalid start byte\n",
      "File not found: ./data/screenplay_data/data/raw_texts/raw_texts/Stan  Ollie_3385524.txt\n",
      "Error reading ./data/screenplay_data/data/raw_texts/raw_texts/Sitting Bull A Stone in My Heart_1493183.txt: 'utf-8' codec can't decode byte 0xff in position 0: invalid start byte\n",
      "Error reading ./data/screenplay_data/data/raw_texts/raw_texts/Sperm The Motion Picture_1414273.txt: 'utf-8' codec can't decode byte 0xe9 in position 49978: invalid continuation byte\n",
      "File not found: ./data/screenplay_data/data/raw_texts/raw_texts/SWAT_0257076.txt\n",
      "File not found: ./data/screenplay_data/data/raw_texts/raw_texts/Lee Daniels  The Butler_1327773.txt\n",
      "Error reading ./data/screenplay_data/data/raw_texts/raw_texts/The Corruptor_0142192.txt: 'utf-8' codec can't decode byte 0x92 in position 413: invalid start byte\n",
      "File not found: ./data/screenplay_data/data/raw_texts/raw_texts/The Kingdom of Heaven   IMDb_3762612.txt\n",
      "Error reading ./data/screenplay_data/data/raw_texts/raw_texts/The Ladykillers_0048281.txt: 'utf-8' codec can't decode byte 0x96 in position 41963: invalid start byte\n",
      "File not found: ./data/screenplay_data/data/raw_texts/raw_texts/Jorge  Alberto vs The Neoliberal Demons_4203196.txt\n",
      "Error reading ./data/screenplay_data/data/raw_texts/raw_texts/Time to Hunt_11777040.txt: 'utf-8' codec can't decode byte 0xe7 in position 8576: invalid continuation byte\n",
      "Error reading ./data/screenplay_data/data/raw_texts/raw_texts/The Public Eye_0105187.txt: 'utf-8' codec can't decode byte 0xff in position 0: invalid start byte\n",
      "File not found: ./data/screenplay_data/data/raw_texts/raw_texts/Niños Espectaculares_2585466.txt\n",
      "File not found: ./data/screenplay_data/data/raw_texts/raw_texts/The Theory of Everything God Devils Dimensions  Man_5124130.txt\n",
      "Error reading ./data/screenplay_data/data/raw_texts/raw_texts/The Wild One_0047677.txt: 'utf-8' codec can't decode byte 0xff in position 0: invalid start byte\n",
      "File not found: ./data/screenplay_data/data/raw_texts/raw_texts/War for Planet of the Apes   2nd Trailer Reaction_6845022.txt\n",
      "File not found: ./data/screenplay_data/data/raw_texts/raw_texts/2 Guns a Grenade  a Pizza Guy_1871996.txt\n",
      "File not found: ./data/screenplay_data/data/raw_texts/raw_texts/Cloak  Dagger_0087065.txt\n",
      "File not found: ./data/screenplay_data/data/raw_texts/raw_texts/Lady Antebellum Lookin  for a Good Time_10871176.txt\n",
      "File not found: ./data/screenplay_data/data/raw_texts/raw_texts/Looter$_0436517.txt\n",
      "File not found: ./data/screenplay_data/data/raw_texts/raw_texts/WALL·E_0910970.txt\n",
      "File not found: ./data/screenplay_data/data/raw_texts/raw_texts/AI Artificial Intelligence_0212720.txt\n",
      "Error reading ./data/screenplay_data/data/raw_texts/raw_texts/Altered Carbon Episode 1 Spoiler Free Review \"Out of the Past\"_13255492.txt: [Errno 22] Invalid argument: './data/screenplay_data/data/raw_texts/raw_texts/Altered Carbon Episode 1 Spoiler Free Review \"Out of the Past\"_13255492.txt'\n",
      "Error reading ./data/screenplay_data/data/raw_texts/raw_texts/American Gods 1x1 REACTION \"The Bone Orchard\"_11563674.txt: [Errno 22] Invalid argument: './data/screenplay_data/data/raw_texts/raw_texts/American Gods 1x1 REACTION \"The Bone Orchard\"_11563674.txt'\n",
      "File not found: ./data/screenplay_data/data/raw_texts/raw_texts/Bill  Ted Face the Music_1086064.txt\n",
      "File not found: ./data/screenplay_data/data/raw_texts/raw_texts/Bill  Ted s Bogus Journey_0101452.txt\n",
      "File not found: ./data/screenplay_data/data/raw_texts/raw_texts/Bill  Ted s Excellent Adventure_0096928.txt\n",
      "File not found: ./data/screenplay_data/data/raw_texts/raw_texts/Black Mirror Review   The National Anthem SPOILERS_7938500.txt\n",
      "File not found: ./data/screenplay_data/data/raw_texts/raw_texts/Black Mirror Review   USS Callister SPOILERS_7818912.txt\n",
      "Error reading ./data/screenplay_data/data/raw_texts/raw_texts/Black Sails 1x6 REACTION \"VI\"_11027128.txt: [Errno 22] Invalid argument: './data/screenplay_data/data/raw_texts/raw_texts/Black Sails 1x6 REACTION \"VI\"_11027128.txt'\n",
      "File not found: ./data/screenplay_data/data/raw_texts/raw_texts/Breaking Bad   Crafting a TV Pilot_7470416.txt\n",
      "Error reading ./data/screenplay_data/data/raw_texts/raw_texts/Breaking Bad 3x3 REACTION \"IFT\"_11713132.txt: [Errno 22] Invalid argument: './data/screenplay_data/data/raw_texts/raw_texts/Breaking Bad 3x3 REACTION \"IFT\"_11713132.txt'\n",
      "Error reading ./data/screenplay_data/data/raw_texts/raw_texts/Breaking Bad 3x11 REACTION \"Abiquiu\"_11724326.txt: [Errno 22] Invalid argument: './data/screenplay_data/data/raw_texts/raw_texts/Breaking Bad 3x11 REACTION \"Abiquiu\"_11724326.txt'\n",
      "Error reading ./data/screenplay_data/data/raw_texts/raw_texts/Brooklyn Nine Nine 1x13 REACTION \"The Bet\"_12904524.txt: [Errno 22] Invalid argument: './data/screenplay_data/data/raw_texts/raw_texts/Brooklyn Nine Nine 1x13 REACTION \"The Bet\"_12904524.txt'\n",
      "Error reading ./data/screenplay_data/data/raw_texts/raw_texts/Chernobyl 1x2 REACTION \"Please Remain Calm\"_11524920.txt: [Errno 22] Invalid argument: './data/screenplay_data/data/raw_texts/raw_texts/Chernobyl 1x2 REACTION \"Please Remain Calm\"_11524920.txt'\n",
      "Error reading ./data/screenplay_data/data/raw_texts/raw_texts/Chernobyl 1x4 REACTION \"The Happiness of All Mankind\"_11524932.txt: [Errno 22] Invalid argument: './data/screenplay_data/data/raw_texts/raw_texts/Chernobyl 1x4 REACTION \"The Happiness of All Mankind\"_11524932.txt'\n",
      "Error reading ./data/screenplay_data/data/raw_texts/raw_texts/Doom Patrol 1x1 REACTION \"Pilot\"_11528496.txt: [Errno 22] Invalid argument: './data/screenplay_data/data/raw_texts/raw_texts/Doom Patrol 1x1 REACTION \"Pilot\"_11528496.txt'\n",
      "File not found: ./data/screenplay_data/data/raw_texts/raw_texts/Edward  Eddie the Eagle  Edwards_5328298.txt\n",
      "File not found: ./data/screenplay_data/data/raw_texts/raw_texts/Game of Thrones Review The Dragon and the Wolf   Season 7 Episode 7_7317326.txt\n",
      "File not found: ./data/screenplay_data/data/raw_texts/raw_texts/The Iron Throne   Game of Thrones  AWFUL Final episode_11628564.txt\n",
      "Error reading ./data/screenplay_data/data/raw_texts/raw_texts/Good Omens 1x1 REACTION \"In the Beginning\"_12150620.txt: [Errno 22] Invalid argument: './data/screenplay_data/data/raw_texts/raw_texts/Good Omens 1x1 REACTION \"In the Beginning\"_12150620.txt'\n",
      "Error reading ./data/screenplay_data/data/raw_texts/raw_texts/Intelligence \"Pilot\" Episode Review_12487302.txt: [Errno 22] Invalid argument: './data/screenplay_data/data/raw_texts/raw_texts/Intelligence \"Pilot\" Episode Review_12487302.txt'\n",
      "File not found: ./data/screenplay_data/data/raw_texts/raw_texts/Love_4061080.txt\n",
      "Error reading ./data/screenplay_data/data/raw_texts/raw_texts/Lena Waithe on the Thanksgiving Episode of \"Master of None\"_13527222.txt: [Errno 22] Invalid argument: './data/screenplay_data/data/raw_texts/raw_texts/Lena Waithe on the Thanksgiving Episode of \"Master of None\"_13527222.txt'\n",
      "File not found: ./data/screenplay_data/data/raw_texts/raw_texts/Mr  Mrs Smith_0356910.txt\n",
      "Error reading ./data/screenplay_data/data/raw_texts/raw_texts/Rick and Morty 1x5 REACTION \"Meeseeks and Destroy\"_12564080.txt: [Errno 22] Invalid argument: './data/screenplay_data/data/raw_texts/raw_texts/Rick and Morty 1x5 REACTION \"Meeseeks and Destroy\"_12564080.txt'\n",
      "Error reading ./data/screenplay_data/data/raw_texts/raw_texts/Rick and Morty 1x11 REACTION \"Ricksy Business\"_12564112.txt: [Errno 22] Invalid argument: './data/screenplay_data/data/raw_texts/raw_texts/Rick and Morty 1x11 REACTION \"Ricksy Business\"_12564112.txt'\n",
      "Error reading ./data/screenplay_data/data/raw_texts/raw_texts/Rick and Morty 2x2 REACTION \"Mortynight Run\"_12604042.txt: [Errno 22] Invalid argument: './data/screenplay_data/data/raw_texts/raw_texts/Rick and Morty 2x2 REACTION \"Mortynight Run\"_12604042.txt'\n",
      "Error reading ./data/screenplay_data/data/raw_texts/raw_texts/The Boys 1x1 REACTION \"The Name of the Game\"_11511586.txt: [Errno 22] Invalid argument: './data/screenplay_data/data/raw_texts/raw_texts/The Boys 1x1 REACTION \"The Name of the Game\"_11511586.txt'\n",
      "File not found: ./data/screenplay_data/data/raw_texts/raw_texts/The Design of The Good Place   Janets_12543550.txt\n",
      "Error reading ./data/screenplay_data/data/raw_texts/raw_texts/The Haunting of Hill House 1x1 REACTION \"Steven Sees a Ghost\"_11673608.txt: [Errno 22] Invalid argument: './data/screenplay_data/data/raw_texts/raw_texts/The Haunting of Hill House 1x1 REACTION \"Steven Sees a Ghost\"_11673608.txt'\n",
      "File not found: ./data/screenplay_data/data/raw_texts/raw_texts/The Man from UNCLE_1638355.txt\n",
      "Error reading ./data/screenplay_data/data/raw_texts/raw_texts/True Detective \"The Long Bright Dark\" Episode Review_12487418.txt: [Errno 22] Invalid argument: './data/screenplay_data/data/raw_texts/raw_texts/True Detective \"The Long Bright Dark\" Episode Review_12487418.txt'\n",
      "Error reading ./data/screenplay_data/data/raw_texts/raw_texts/True Detective \"Seeing Things\" Episode Review_12658012.txt: [Errno 22] Invalid argument: './data/screenplay_data/data/raw_texts/raw_texts/True Detective \"Seeing Things\" Episode Review_12658012.txt'\n",
      "Error reading ./data/screenplay_data/data/raw_texts/raw_texts/True Detective \"The Secret Fate Of All Life\" Episode Review_12658584.txt: [Errno 22] Invalid argument: './data/screenplay_data/data/raw_texts/raw_texts/True Detective \"The Secret Fate Of All Life\" Episode Review_12658584.txt'\n",
      "File not found: ./data/screenplay_data/data/raw_texts/raw_texts/Victoria  Abdul_5816682.txt\n",
      "File not found: ./data/screenplay_data/data/raw_texts/raw_texts/Wild Tales_3011894.txt\n",
      "Files not found: 121\n",
      "Reading error: 79\n"
     ]
    }
   ],
   "source": [
    "#code to map the scripts to the movie in the csv file\n",
    "count = 0\n",
    "read_err = 0\n",
    "#iterate through each row of the dataframe\n",
    "for index, row in df.iterrows():\n",
    "    movieid = str(row['imdbid'])\n",
    "    #add zeros to the movie_id if it's length is less than zero\n",
    "    if len(movieid)<7:\n",
    "        movieid = movieid.zfill(7)\n",
    "    title = row['title']\n",
    "    #remove extra non-alphanumeric characters from the title\n",
    "    title = re.sub('[().,:&?!]', '', title)\n",
    "    title = re.sub('[-\\'/]', ' ', title)\n",
    "    #create the filename by concatenating the title and movie_id\n",
    "    filename = title + '_' + movieid+'.txt'  \n",
    "    file_path = scripts_directory + '/' + filename\n",
    "    #try to open read the file at file_path\n",
    "    try:\n",
    "        with open(file_path, 'r', encoding='utf-8') as file:\n",
    "            script = file.read()\n",
    "        #add the contents of the file to the csv\n",
    "        df.at[index, 'script'] = script\n",
    "    #if file not found, print the error statement\n",
    "    except FileNotFoundError:\n",
    "        print(f\"File not found: {file_path}\")\n",
    "        count +=1\n",
    "    #if there's an error reading the file \n",
    "    except Exception as e:\n",
    "        print(f\"Error reading {file_path}: {str(e)}\")\n",
    "        read_err +=1\n",
    "\n",
    "print(f'Files not found: {count}\\nReading error: {read_err}')"
   ]
  },
  {
   "cell_type": "code",
   "execution_count": 79,
   "id": "43d45988",
   "metadata": {},
   "outputs": [
    {
     "data": {
      "text/plain": [
       "200"
      ]
     },
     "execution_count": 79,
     "metadata": {},
     "output_type": "execute_result"
    }
   ],
   "source": [
    "df['script'].isnull().sum()"
   ]
  },
  {
   "cell_type": "code",
   "execution_count": 85,
   "id": "8c0ca030",
   "metadata": {},
   "outputs": [],
   "source": [
    "#remove all rows that do not contain a script\n",
    "df_not_null = df[df['script'].notna()]"
   ]
  },
  {
   "cell_type": "code",
   "execution_count": 93,
   "id": "cf322eb5",
   "metadata": {},
   "outputs": [],
   "source": [
    "#remove all movies that have a rating of less than 0\n",
    "df_clean = df_not_null[df_not_null['imdb user rating']>0]"
   ]
  },
  {
   "cell_type": "code",
   "execution_count": 95,
   "id": "3e4b3ee9",
   "metadata": {},
   "outputs": [
    {
     "data": {
      "text/plain": [
       "array([6, 3, 8, 7, 5, 9, 4, 2, 1], dtype=int64)"
      ]
     },
     "execution_count": 95,
     "metadata": {},
     "output_type": "execute_result"
    }
   ],
   "source": [
    "df_clean['imdb user rating'].unique()"
   ]
  },
  {
   "cell_type": "code",
   "execution_count": 98,
   "id": "24d047f5",
   "metadata": {},
   "outputs": [
    {
     "data": {
      "image/png": "[encoded data removed]",
      "text/plain": [
       "<Figure size 640x480 with 1 Axes>"
      ]
     },
     "metadata": {},
     "output_type": "display_data"
    }
   ],
   "source": [
    "#visualizing the class distribution\n",
    "import matplotlib.pyplot as plt\n",
    "# Using matplotlib directly\n",
    "plt.bar(df_clean['imdb user rating'].value_counts().index, df_clean['imdb user rating'].value_counts().values, color='skyblue')\n",
    "plt.xlabel('Class')\n",
    "plt.ylabel('Frequency')\n",
    "plt.title('Class Distribution')\n",
    "plt.show()\n"
   ]
  },
  {
   "cell_type": "code",
   "execution_count": 99,
   "id": "7c5493ed",
   "metadata": {},
   "outputs": [
    {
     "data": {
      "text/plain": [
       "imdb user rating\n",
       "7    998\n",
       "6    838\n",
       "8    276\n",
       "5    272\n",
       "4     84\n",
       "3     28\n",
       "9      7\n",
       "2      4\n",
       "1      1\n",
       "Name: count, dtype: int64"
      ]
     },
     "execution_count": 99,
     "metadata": {},
     "output_type": "execute_result"
    }
   ],
   "source": [
    "#number of elements in every class\n",
    "df_clean['imdb user rating'].value_counts()"
   ]
  },
  {
   "cell_type": "code",
   "execution_count": 105,
   "id": "4b2553b1",
   "metadata": {},
   "outputs": [
    {
     "data": {
      "text/plain": [
       "0       \\n\\n\\t\\t\\t    A NIGHT AT THE ROXBURY \\n\\n\\n\\t\\...\n",
       "1       AT FIRST SIGHT\\n\\nEXT. VALLEY - DUSK \\nGold li...\n",
       "3       \\t\\t\\t\\tBamboozled\\n\\n\\t\\t\\t\\tby\\n\\n\\t\\t\\t\\tSp...\n",
       "4       \\n\\n\\t\\t\\tTHE BIG LEBOWSKI\\n\\nWe are floating ...\n",
       "5       Boys on the Side\\n\\nSCENE 1\\n\\nJANE\\nThank you...\n",
       "                              ...                        \n",
       "2852    WAR OF THE WORLDS\\n\\nscreenplay by\\nJosh Fried...\n",
       "2853    June 29, 1994\\n\\nWHILE YOU WERE SLEEPING...\\n\\...\n",
       "2855    WIND RIVER\\n\\nWritten by\\n\\nTaylor Sheridan\\n\n",
       "...\n",
       "2856    WRONGFULLY ACCUSED\\n\\nBy\\n\\nPat Proft\\n\\nPROFT...\n",
       "2857    YOU\\n\\nWERE\\n\\nNEVER\\n\\nREALLY\\n\\nHERE.\\n\\nScr...\n",
       "Name: script, Length: 2384, dtype: object"
      ]
     },
     "execution_count": 105,
     "metadata": {},
     "output_type": "execute_result"
    }
   ],
   "source": [
    "df_clean['script']"
   ]
  },
  {
   "cell_type": "code",
   "execution_count": 107,
   "id": "591369da",
   "metadata": {},
   "outputs": [],
   "source": [
    "#replacing the \\n and \\t characters in the scripts\n",
    "df_clean['script'] = df_clean['script'].str.replace('\\n', '', regex=False)\n",
    "df_clean['script'] = df_clean['script'].str.replace('\\t', '', regex=False)"
   ]
  },
  {
   "cell_type": "code",
   "execution_count": 109,
   "id": "b15240a9",
   "metadata": {},
   "outputs": [],
   "source": [
    "#save dataframe as csv file\n",
    "df_clean.to_csv('scripts.csv', index=False)"
   ]
  },
  {
   "cell_type": "code",
   "execution_count": null,
   "id": "d2958f61",
   "metadata": {},
   "outputs": [],
   "source": []
  }
 ],
 "metadata": {
  "kernelspec": {
   "display_name": "Python 3 (ipykernel)",
   "language": "python",
   "name": "python3"
  },
  "language_info": {
   "codemirror_mode": {
    "name": "ipython",
    "version": 3
   },
   "file_extension": ".py",
   "mimetype": "text/x-python",
   "name": "python",
   "nbconvert_exporter": "python",
   "pygments_lexer": "ipython3",
   "version": "3.11.0"
  }
 },
 "nbformat": 4,
 "nbformat_minor": 5
}
